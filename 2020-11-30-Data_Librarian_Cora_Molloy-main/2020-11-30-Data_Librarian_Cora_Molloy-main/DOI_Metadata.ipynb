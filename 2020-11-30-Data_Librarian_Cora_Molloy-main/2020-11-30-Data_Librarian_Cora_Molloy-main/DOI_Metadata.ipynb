{
 "cells": [
  {
   "cell_type": "markdown",
   "metadata": {},
   "source": [
    "# Hier werden Daten von Crossref runtergeladen "
   ]
  },
  {
   "cell_type": "markdown",
   "metadata": {},
   "source": [
    "API-Nutzung: https://api.crossref.org/v1/works/"
   ]
  },
  {
   "cell_type": "code",
   "execution_count": null,
   "metadata": {},
   "outputs": [],
   "source": [
    "for DOI in DOIS:\n",
    "    print(DOI)"
   ]
  },
  {
   "cell_type": "code",
   "execution_count": 5,
   "metadata": {},
   "outputs": [],
   "source": [
    "import urllib.request\n",
    "import json #weil es json daten sind"
   ]
  },
  {
   "cell_type": "code",
   "execution_count": 6,
   "metadata": {},
   "outputs": [],
   "source": [
    "base_url = \"https://api.crossref.org/works/\"         #Grundlegende API-URL\n",
    "doi = \"10.1371/journal.pcbi.1004668\"                # DOI ist die Variable, die ich abfrage\n",
    "full_url = base_url + doi                           # Befehl, die beiden zu kombinieren\n",
    "doi_json_data = urllib.request.urlopen(full_url).read() #schreiben und auslesen"
   ]
  },
  {
   "cell_type": "code",
   "execution_count": 7,
   "metadata": {},
   "outputs": [],
   "source": [
    "doi_data = json.loads(doi_json_data)   #load string in Json-Format"
   ]
  },
  {
   "cell_type": "code",
   "execution_count": 8,
   "metadata": {},
   "outputs": [
    {
     "data": {
      "text/plain": [
       "{'status': 'ok',\n",
       " 'message-type': 'work',\n",
       " 'message-version': '1.0.0',\n",
       " 'message': {'indexed': {'date-parts': [[2020, 5, 9]],\n",
       "   'date-time': '2020-05-09T04:41:07Z',\n",
       "   'timestamp': 1588999267111},\n",
       "  'reference-count': 6,\n",
       "  'publisher': 'Public Library of Science (PLoS)',\n",
       "  'issue': '1',\n",
       "  'license': [{'URL': 'http://creativecommons.org/licenses/by/4.0/',\n",
       "    'start': {'date-parts': [[2016, 1, 19]],\n",
       "     'date-time': '2016-01-19T00:00:00Z',\n",
       "     'timestamp': 1453161600000},\n",
       "    'delay-in-days': 0,\n",
       "    'content-version': 'vor'}],\n",
       "  'content-domain': {'domain': ['www.ploscompbiol.org'],\n",
       "   'crossmark-restriction': False},\n",
       "  'short-container-title': ['PLoS Comput Biol'],\n",
       "  'DOI': '10.1371/journal.pcbi.1004668',\n",
       "  'type': 'journal-article',\n",
       "  'created': {'date-parts': [[2016, 1, 19]],\n",
       "   'date-time': '2016-01-19T21:35:29Z',\n",
       "   'timestamp': 1453239329000},\n",
       "  'page': 'e1004668',\n",
       "  'update-policy': 'http://dx.doi.org/10.1371/journal.pcbi.corrections_policy',\n",
       "  'source': 'Crossref',\n",
       "  'is-referenced-by-count': 43,\n",
       "  'title': ['A Quick Introduction to Version Control with Git and GitHub'],\n",
       "  'prefix': '10.1371',\n",
       "  'volume': '12',\n",
       "  'author': [{'given': 'John D.',\n",
       "    'family': 'Blischak',\n",
       "    'sequence': 'first',\n",
       "    'affiliation': []},\n",
       "   {'given': 'Emily R.',\n",
       "    'family': 'Davenport',\n",
       "    'sequence': 'additional',\n",
       "    'affiliation': []},\n",
       "   {'given': 'Greg',\n",
       "    'family': 'Wilson',\n",
       "    'sequence': 'additional',\n",
       "    'affiliation': []}],\n",
       "  'member': '340',\n",
       "  'published-online': {'date-parts': [[2016, 1, 19]]},\n",
       "  'reference': [{'key': 'ref1',\n",
       "    'doi-asserted-by': 'crossref',\n",
       "    'first-page': '7',\n",
       "    'DOI': '10.1186/1751-0473-8-7',\n",
       "    'article-title': 'Git can facilitate greater reproducibility and increased transparency in science',\n",
       "    'volume': '8',\n",
       "    'author': 'K Ram',\n",
       "    'year': '2013',\n",
       "    'journal-title': 'Source Code Biol Med'},\n",
       "   {'key': 'ref2',\n",
       "    'doi-asserted-by': 'crossref',\n",
       "    'first-page': 'e1001745',\n",
       "    'DOI': '10.1371/journal.pbio.1001745',\n",
       "    'article-title': 'Best practices for scientific computing',\n",
       "    'volume': '12',\n",
       "    'author': 'G Wilson',\n",
       "    'year': '2014',\n",
       "    'journal-title': 'PLoS Biol'},\n",
       "   {'key': 'ref3',\n",
       "    'doi-asserted-by': 'crossref',\n",
       "    'first-page': '57',\n",
       "    'DOI': '10.1038/nature11247',\n",
       "    'article-title': 'An integrated encyclopedia of DNA elements in the human genome',\n",
       "    'volume': '489',\n",
       "    'author': 'B Bernstein',\n",
       "    'year': '2012',\n",
       "    'journal-title': 'Nature'},\n",
       "   {'key': 'ref4',\n",
       "    'doi-asserted-by': 'crossref',\n",
       "    'first-page': 'e1003326',\n",
       "    'DOI': '10.1371/journal.pcbi.1003326',\n",
       "    'article-title': 'Practical guidelines for the comprehensive analysis of ChIP-seq data',\n",
       "    'volume': '9',\n",
       "    'author': 'T Bailey',\n",
       "    'year': '2013',\n",
       "    'journal-title': 'PLoS Comput Biol'},\n",
       "   {'key': 'ref5',\n",
       "    'doi-asserted-by': 'crossref',\n",
       "    'first-page': 'e1000424',\n",
       "    'DOI': '10.1371/journal.pcbi.1000424',\n",
       "    'article-title': 'A quick guide to organizing computational biology projects',\n",
       "    'volume': '5',\n",
       "    'author': 'W Noble',\n",
       "    'year': '2009',\n",
       "    'journal-title': 'PLoS Comput Biol'},\n",
       "   {'key': 'ref6',\n",
       "    'doi-asserted-by': 'crossref',\n",
       "    'first-page': 'e1002598',\n",
       "    'DOI': '10.1371/journal.pcbi.1002598',\n",
       "    'article-title': 'A quick guide to software licensing for the scientist-programmer',\n",
       "    'volume': '8',\n",
       "    'author': 'A Morin',\n",
       "    'year': '2012',\n",
       "    'journal-title': 'PLoS Comput Biol'}],\n",
       "  'container-title': ['PLOS Computational Biology'],\n",
       "  'original-title': [],\n",
       "  'language': 'en',\n",
       "  'link': [{'URL': 'http://dx.plos.org/10.1371/journal.pcbi.1004668',\n",
       "    'content-type': 'unspecified',\n",
       "    'content-version': 'vor',\n",
       "    'intended-application': 'similarity-checking'}],\n",
       "  'deposited': {'date-parts': [[2020, 5, 8]],\n",
       "   'date-time': '2020-05-08T21:36:54Z',\n",
       "   'timestamp': 1588973814000},\n",
       "  'score': 1.0,\n",
       "  'subtitle': [],\n",
       "  'editor': [{'given': 'Francis',\n",
       "    'family': 'Ouellette',\n",
       "    'sequence': 'first',\n",
       "    'affiliation': []}],\n",
       "  'short-title': [],\n",
       "  'issued': {'date-parts': [[2016, 1, 19]]},\n",
       "  'references-count': 6,\n",
       "  'journal-issue': {'published-online': {'date-parts': [[2016, 1, 19]]},\n",
       "   'issue': '1'},\n",
       "  'URL': 'http://dx.doi.org/10.1371/journal.pcbi.1004668',\n",
       "  'relation': {'cites': []},\n",
       "  'ISSN': ['1553-7358'],\n",
       "  'issn-type': [{'value': '1553-7358', 'type': 'electronic'}],\n",
       "  'subject': ['Ecology',\n",
       "   'Modelling and Simulation',\n",
       "   'Computational Theory and Mathematics',\n",
       "   'Genetics',\n",
       "   'Ecology, Evolution, Behavior and Systematics',\n",
       "   'Molecular Biology',\n",
       "   'Cellular and Molecular Neuroscience']}}"
      ]
     },
     "execution_count": 8,
     "metadata": {},
     "output_type": "execute_result"
    }
   ],
   "source": [
    "doi_data"
   ]
  },
  {
   "cell_type": "code",
   "execution_count": 14,
   "metadata": {},
   "outputs": [],
   "source": [
    "message = doi_data[\"message\"]"
   ]
  },
  {
   "cell_type": "code",
   "execution_count": 15,
   "metadata": {},
   "outputs": [
    {
     "data": {
      "text/plain": [
       "{'indexed': {'date-parts': [[2020, 5, 9]],\n",
       "  'date-time': '2020-05-09T04:41:07Z',\n",
       "  'timestamp': 1588999267111},\n",
       " 'reference-count': 6,\n",
       " 'publisher': 'Public Library of Science (PLoS)',\n",
       " 'issue': '1',\n",
       " 'license': [{'URL': 'http://creativecommons.org/licenses/by/4.0/',\n",
       "   'start': {'date-parts': [[2016, 1, 19]],\n",
       "    'date-time': '2016-01-19T00:00:00Z',\n",
       "    'timestamp': 1453161600000},\n",
       "   'delay-in-days': 0,\n",
       "   'content-version': 'vor'}],\n",
       " 'content-domain': {'domain': ['www.ploscompbiol.org'],\n",
       "  'crossmark-restriction': False},\n",
       " 'short-container-title': ['PLoS Comput Biol'],\n",
       " 'DOI': '10.1371/journal.pcbi.1004668',\n",
       " 'type': 'journal-article',\n",
       " 'created': {'date-parts': [[2016, 1, 19]],\n",
       "  'date-time': '2016-01-19T21:35:29Z',\n",
       "  'timestamp': 1453239329000},\n",
       " 'page': 'e1004668',\n",
       " 'update-policy': 'http://dx.doi.org/10.1371/journal.pcbi.corrections_policy',\n",
       " 'source': 'Crossref',\n",
       " 'is-referenced-by-count': 43,\n",
       " 'title': ['A Quick Introduction to Version Control with Git and GitHub'],\n",
       " 'prefix': '10.1371',\n",
       " 'volume': '12',\n",
       " 'author': [{'given': 'John D.',\n",
       "   'family': 'Blischak',\n",
       "   'sequence': 'first',\n",
       "   'affiliation': []},\n",
       "  {'given': 'Emily R.',\n",
       "   'family': 'Davenport',\n",
       "   'sequence': 'additional',\n",
       "   'affiliation': []},\n",
       "  {'given': 'Greg',\n",
       "   'family': 'Wilson',\n",
       "   'sequence': 'additional',\n",
       "   'affiliation': []}],\n",
       " 'member': '340',\n",
       " 'published-online': {'date-parts': [[2016, 1, 19]]},\n",
       " 'reference': [{'key': 'ref1',\n",
       "   'doi-asserted-by': 'crossref',\n",
       "   'first-page': '7',\n",
       "   'DOI': '10.1186/1751-0473-8-7',\n",
       "   'article-title': 'Git can facilitate greater reproducibility and increased transparency in science',\n",
       "   'volume': '8',\n",
       "   'author': 'K Ram',\n",
       "   'year': '2013',\n",
       "   'journal-title': 'Source Code Biol Med'},\n",
       "  {'key': 'ref2',\n",
       "   'doi-asserted-by': 'crossref',\n",
       "   'first-page': 'e1001745',\n",
       "   'DOI': '10.1371/journal.pbio.1001745',\n",
       "   'article-title': 'Best practices for scientific computing',\n",
       "   'volume': '12',\n",
       "   'author': 'G Wilson',\n",
       "   'year': '2014',\n",
       "   'journal-title': 'PLoS Biol'},\n",
       "  {'key': 'ref3',\n",
       "   'doi-asserted-by': 'crossref',\n",
       "   'first-page': '57',\n",
       "   'DOI': '10.1038/nature11247',\n",
       "   'article-title': 'An integrated encyclopedia of DNA elements in the human genome',\n",
       "   'volume': '489',\n",
       "   'author': 'B Bernstein',\n",
       "   'year': '2012',\n",
       "   'journal-title': 'Nature'},\n",
       "  {'key': 'ref4',\n",
       "   'doi-asserted-by': 'crossref',\n",
       "   'first-page': 'e1003326',\n",
       "   'DOI': '10.1371/journal.pcbi.1003326',\n",
       "   'article-title': 'Practical guidelines for the comprehensive analysis of ChIP-seq data',\n",
       "   'volume': '9',\n",
       "   'author': 'T Bailey',\n",
       "   'year': '2013',\n",
       "   'journal-title': 'PLoS Comput Biol'},\n",
       "  {'key': 'ref5',\n",
       "   'doi-asserted-by': 'crossref',\n",
       "   'first-page': 'e1000424',\n",
       "   'DOI': '10.1371/journal.pcbi.1000424',\n",
       "   'article-title': 'A quick guide to organizing computational biology projects',\n",
       "   'volume': '5',\n",
       "   'author': 'W Noble',\n",
       "   'year': '2009',\n",
       "   'journal-title': 'PLoS Comput Biol'},\n",
       "  {'key': 'ref6',\n",
       "   'doi-asserted-by': 'crossref',\n",
       "   'first-page': 'e1002598',\n",
       "   'DOI': '10.1371/journal.pcbi.1002598',\n",
       "   'article-title': 'A quick guide to software licensing for the scientist-programmer',\n",
       "   'volume': '8',\n",
       "   'author': 'A Morin',\n",
       "   'year': '2012',\n",
       "   'journal-title': 'PLoS Comput Biol'}],\n",
       " 'container-title': ['PLOS Computational Biology'],\n",
       " 'original-title': [],\n",
       " 'language': 'en',\n",
       " 'link': [{'URL': 'http://dx.plos.org/10.1371/journal.pcbi.1004668',\n",
       "   'content-type': 'unspecified',\n",
       "   'content-version': 'vor',\n",
       "   'intended-application': 'similarity-checking'}],\n",
       " 'deposited': {'date-parts': [[2020, 5, 8]],\n",
       "  'date-time': '2020-05-08T21:36:54Z',\n",
       "  'timestamp': 1588973814000},\n",
       " 'score': 1.0,\n",
       " 'subtitle': [],\n",
       " 'editor': [{'given': 'Francis',\n",
       "   'family': 'Ouellette',\n",
       "   'sequence': 'first',\n",
       "   'affiliation': []}],\n",
       " 'short-title': [],\n",
       " 'issued': {'date-parts': [[2016, 1, 19]]},\n",
       " 'references-count': 6,\n",
       " 'journal-issue': {'published-online': {'date-parts': [[2016, 1, 19]]},\n",
       "  'issue': '1'},\n",
       " 'URL': 'http://dx.doi.org/10.1371/journal.pcbi.1004668',\n",
       " 'relation': {'cites': []},\n",
       " 'ISSN': ['1553-7358'],\n",
       " 'issn-type': [{'value': '1553-7358', 'type': 'electronic'}],\n",
       " 'subject': ['Ecology',\n",
       "  'Modelling and Simulation',\n",
       "  'Computational Theory and Mathematics',\n",
       "  'Genetics',\n",
       "  'Ecology, Evolution, Behavior and Systematics',\n",
       "  'Molecular Biology',\n",
       "  'Cellular and Molecular Neuroscience']}"
      ]
     },
     "execution_count": 15,
     "metadata": {},
     "output_type": "execute_result"
    }
   ],
   "source": [
    "message"
   ]
  },
  {
   "cell_type": "code",
   "execution_count": 13,
   "metadata": {},
   "outputs": [
    {
     "data": {
      "text/plain": [
       "['A Quick Introduction to Version Control with Git and GitHub']"
      ]
     },
     "execution_count": 13,
     "metadata": {},
     "output_type": "execute_result"
    }
   ],
   "source": [
    "doi_data[\"message\"][\"title\"] #Einen Listeneintrag, gleiches für untergeordn. Listeneintrag"
   ]
  },
  {
   "cell_type": "code",
   "execution_count": 18,
   "metadata": {},
   "outputs": [
    {
     "data": {
      "text/plain": [
       "'A Quick Introduction to Version Control with Git and GitHub'"
      ]
     },
     "execution_count": 18,
     "metadata": {},
     "output_type": "execute_result"
    }
   ],
   "source": [
    "doi_data[\"message\"][\"title\"][0] #erster Indexeintrag"
   ]
  },
  {
   "cell_type": "code",
   "execution_count": 17,
   "metadata": {},
   "outputs": [
    {
     "data": {
      "text/plain": [
       "'PLoS Comput Biol'"
      ]
     },
     "execution_count": 17,
     "metadata": {},
     "output_type": "execute_result"
    }
   ],
   "source": [
    "doi_data[\"message\"][\"short-container-title\"][0] "
   ]
  },
  {
   "cell_type": "code",
   "execution_count": 22,
   "metadata": {},
   "outputs": [],
   "source": [
    "# Liste mit DOIs\n",
    "dois = [\"10.1371/journal.pcbi.1004668\",\n",
    "        \"10.21105/joss.01035\",\n",
    "        \"10.1038/35057062\",\n",
    "        \"10.21105/joss.01006\"]"
   ]
  },
  {
   "cell_type": "code",
   "execution_count": 29,
   "metadata": {},
   "outputs": [
    {
     "name": "stdout",
     "output_type": "stream",
     "text": [
      "10.1371/journal.pcbi.1004668\n",
      "https://api.crossref.org/works/10.1371/journal.pcbi.1004668\n",
      "A Quick Introduction to Version Control with Git and GitHub\n",
      "-----------\n",
      "10.21105/joss.01035\n",
      "https://api.crossref.org/works/10.21105/joss.01035\n",
      "nasapower: A NASA POWER Global Meteorology, Surface Solar Energy and Climatology Data Client for R\n",
      "-----------\n",
      "10.1038/35057062\n",
      "https://api.crossref.org/works/10.1038/35057062\n",
      "Initial sequencing and analysis of the human genome\n",
      "-----------\n",
      "10.21105/joss.01006\n",
      "https://api.crossref.org/works/10.21105/joss.01006\n",
      "SeqTools: A python package for easy transformation, combination and evaluation of large datasets.\n",
      "-----------\n"
     ]
    }
   ],
   "source": [
    "base_url = \"https://api.crossref.org/works/\" \n",
    "for doi in dois:\n",
    "    print(doi) \n",
    "    full_url = base_url + doi  \n",
    "    print(full_url)\n",
    "    doi_json_data2 = urllib.request.urlopen(full_url).read() \n",
    "    doi_data = json.loads(doi_json_data2) \n",
    "    title = doi_data[\"message\"][\"title\"][0]\n",
    "    print(title)\n",
    "    print(\"-----------\")"
   ]
  },
  {
   "cell_type": "code",
   "execution_count": 42,
   "metadata": {},
   "outputs": [
    {
     "data": {
      "text/plain": [
       "dict"
      ]
     },
     "execution_count": 42,
     "metadata": {},
     "output_type": "execute_result"
    }
   ],
   "source": [
    "type(doi_data[\"message\"])"
   ]
  },
  {
   "cell_type": "code",
   "execution_count": 44,
   "metadata": {},
   "outputs": [
    {
     "data": {
      "text/plain": [
       "list"
      ]
     },
     "execution_count": 44,
     "metadata": {},
     "output_type": "execute_result"
    }
   ],
   "source": [
    "type(doi_data[\"message\"][\"author\"])"
   ]
  },
  {
   "cell_type": "code",
   "execution_count": 46,
   "metadata": {},
   "outputs": [
    {
     "ename": "KeyError",
     "evalue": "'author.family'",
     "output_type": "error",
     "traceback": [
      "\u001b[0;31m---------------------------------------------------------------------------\u001b[0m",
      "\u001b[0;31mKeyError\u001b[0m                                  Traceback (most recent call last)",
      "\u001b[0;32m<ipython-input-46-edc01836f609>\u001b[0m in \u001b[0;36m<module>\u001b[0;34m\u001b[0m\n\u001b[0;32m----> 1\u001b[0;31m \u001b[0mdoi_data\u001b[0m\u001b[0;34m[\u001b[0m\u001b[0;34m\"message\"\u001b[0m\u001b[0;34m]\u001b[0m\u001b[0;34m[\u001b[0m\u001b[0;34m\"author.family\"\u001b[0m\u001b[0;34m]\u001b[0m\u001b[0;34m\u001b[0m\u001b[0;34m\u001b[0m\u001b[0m\n\u001b[0m",
      "\u001b[0;31mKeyError\u001b[0m: 'author.family'"
     ]
    }
   ],
   "source": [
    "doi_data[\"message\"][\"author\"]"
   ]
  },
  {
   "cell_type": "code",
   "execution_count": 54,
   "metadata": {},
   "outputs": [
    {
     "name": "stdout",
     "output_type": "stream",
     "text": [
      "Nicolas\n",
      "Granger\n",
      "------\n",
      "Mounîm\n",
      "Yacoubi\n",
      "------\n"
     ]
    }
   ],
   "source": [
    "for author in doi_data[\"message\"][\"author\"]:\n",
    "    print(author[\"given\"])\n",
    "    print(author[\"family\"])\n",
    "    print(\"------\")"
   ]
  },
  {
   "cell_type": "code",
   "execution_count": null,
   "metadata": {},
   "outputs": [],
   "source": []
  }
 ],
 "metadata": {
  "kernelspec": {
   "display_name": "Python 3",
   "language": "python",
   "name": "python3"
  },
  "language_info": {
   "codemirror_mode": {
    "name": "ipython",
    "version": 3
   },
   "file_extension": ".py",
   "mimetype": "text/x-python",
   "name": "python",
   "nbconvert_exporter": "python",
   "pygments_lexer": "ipython3",
   "version": "3.8.5"
  }
 },
 "nbformat": 4,
 "nbformat_minor": 4
}
